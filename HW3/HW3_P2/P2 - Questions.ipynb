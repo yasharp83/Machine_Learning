{
 "cells": [
  {
   "cell_type": "markdown",
   "metadata": {
    "id": "havFsrqzlXPy"
   },
   "source": [
    "### yashar paymai 401100325\n",
    "# Optimization Techniques on MNIST Dataset\n",
    "This notebook explores various optimization techniques for training neural networks on the MNIST dataset. The focus will be on different optimization strategies including Adaptive Learning Rates, SGD, Mini-Batch Gradient Descent, and Learning Rate Adjustments. Each section will provide a practical task related to these techniques."
   ]
  },
  {
   "cell_type": "code",
   "execution_count": 13,
   "metadata": {
    "id": "ywjE9LpmlXP1",
    "ExecuteTime": {
     "end_time": "2024-11-22T11:35:27.725777428Z",
     "start_time": "2024-11-22T11:35:20.885082817Z"
    }
   },
   "outputs": [
    {
     "name": "stdout",
     "output_type": "stream",
     "text": [
      "Downloading data from https://storage.googleapis.com/tensorflow/tf-keras-datasets/t10k-images-idx3-ubyte.gz\n",
      "\u001B[1m4422102/4422102\u001B[0m \u001B[32m━━━━━━━━━━━━━━━━━━━━\u001B[0m\u001B[37m\u001B[0m \u001B[1m6s\u001B[0m 1us/step\n"
     ]
    }
   ],
   "source": [
    "import tensorflow as tf\n",
    "import numpy as np\n",
    "import matplotlib.pyplot as plt\n",
    "\n",
    "# Load Fashion MNIST dataset\n",
    "(x_train, y_train), (x_test, y_test) = tf.keras.datasets.fashion_mnist.load_data()\n",
    "\n",
    "# Normalize data\n",
    "x_train, x_test = x_train / 255.0, x_test / 255.0\n",
    "\n",
    "# One-hot encode labels\n",
    "y_train = tf.keras.utils.to_categorical(y_train, 10)\n",
    "y_test = tf.keras.utils.to_categorical(y_test, 10)"
   ]
  },
  {
   "cell_type": "markdown",
   "metadata": {},
   "source": [
    "## Adaptive Learning Rates"
   ]
  },
  {
   "cell_type": "markdown",
   "metadata": {
    "id": "4rNvoHEDlXP2"
   },
   "source": [
    "## Implementing a Simple Neural Network from Scratch"
   ]
  },
  {
   "cell_type": "markdown",
   "metadata": {
    "id": "8IMMs-s6lXP2"
   },
   "source": [
    "### Building the Network\n",
    "Define the architecture of a simple feedforward neural network with one hidden layer. You will need to manually initialize the weights and biases.\n",
    "\n",
    "**TODO:** Initialize Parameters\n",
    "Objective: Create a function to initialize weights and biases for all layers of the network.\n",
    "Instructions:\n",
    "- Initialize weights with small random values and biases with zeros.\n",
    "- Use numpy for creating arrays and operations.\n",
    "\n",
    "Hint: Use np.random.randn for weights and np.zeros for biases. Scale weights by 0.1."
   ]
  },
  {
   "cell_type": "code",
   "execution_count": 16,
   "metadata": {
    "id": "HEUr0figlXP3",
    "ExecuteTime": {
     "end_time": "2024-11-22T11:41:27.152110519Z",
     "start_time": "2024-11-22T11:41:27.111171391Z"
    }
   },
   "outputs": [],
   "source": [
    "def initialize_parameters(input_size, hidden_size, output_size):\n",
    "    \"\"\"\n",
    "    Initialize weights and biases for a simple feedforward neural network.\n",
    "\n",
    "    Parameters:\n",
    "    - input_size: Number of input features.\n",
    "    - hidden_size: Number of neurons in the hidden layer.\n",
    "    - output_size: Number of output classes.\n",
    "\n",
    "    Returns:\n",
    "    - parameters: A dictionary containing weights and biases.\n",
    "    \"\"\"\n",
    "\n",
    "    weights1 = np.random.randn(input_size, hidden_size) * 0.1\n",
    "    biases1 = np.zeros(hidden_size)\n",
    "    weights2 = np.random.randn(hidden_size, output_size) * 0.1\n",
    "    biases2 = np.zeros(output_size)\n",
    "    parameters = {\n",
    "        'W1': weights1,\n",
    "        'b1': biases1,\n",
    "        'W2': weights2,\n",
    "        'b2': biases2\n",
    "    }\n",
    "    return parameters\n",
    "\n"
   ]
  },
  {
   "cell_type": "markdown",
   "metadata": {
    "id": "bDvfRCVq-74-"
   },
   "source": [
    "\n",
    "TODO: Define Activation Functions\n",
    "Objective: Implement commonly used activation functions.\n",
    "Instructions:\n",
    " - Define the ReLU and Sigmoid activation functions.\n",
    " - Ensure each function works with numpy arrays and supports both forward and derivative (gradient) computations.\n"
   ]
  },
  {
   "cell_type": "code",
   "execution_count": 17,
   "metadata": {
    "id": "qIBwOlH6_Jg4",
    "ExecuteTime": {
     "end_time": "2024-11-22T11:41:29.457742416Z",
     "start_time": "2024-11-22T11:41:29.453674928Z"
    }
   },
   "outputs": [],
   "source": [
    "def relu(x):\n",
    "    \"\"\"\n",
    "    ReLU activation function.\n",
    "\n",
    "    Parameters:\n",
    "    - x: Input numpy array.\n",
    "\n",
    "    Returns:\n",
    "    - Output after applying ReLU.\n",
    "    \"\"\"\n",
    "    return np.maximum(0.0, x)\n",
    "\n",
    "\n",
    "def relu_derivative(x):\n",
    "    \"\"\"\n",
    "    Derivative of ReLU activation function.\n",
    "\n",
    "    Parameters:\n",
    "    - x: Input numpy array.\n",
    "\n",
    "    Returns:\n",
    "    - Derivative of ReLU.\n",
    "    \"\"\"\n",
    "    return np.where(x <= 0, 0, 1)\n",
    "\n",
    "\n",
    "def sigmoid(x):\n",
    "    \"\"\"\n",
    "    Sigmoid activation function.\n",
    "\n",
    "    Parameters:\n",
    "    - x: Input numpy array.\n",
    "\n",
    "    Returns:\n",
    "    - Output after applying sigmoid.\n",
    "    \"\"\"\n",
    "    return 1.0 / (1 + np.exp(-x))\n",
    "\n",
    "\n",
    "def sigmoid_derivative(x):\n",
    "    \"\"\"\n",
    "    Derivative of sigmoid activation function.\n",
    "\n",
    "    Parameters:\n",
    "    - x: Input numpy array.\n",
    "\n",
    "    Returns:\n",
    "    - Derivative of sigmoid.\n",
    "    \"\"\"\n",
    "    return sigmoid(x) * (1 - sigmoid(x))\n",
    "\n",
    "\n",
    "def softmax(x):\n",
    "    return np.exp(x) / np.sum(np.exp(x), axis=1, keepdims=True)\n",
    "\n",
    "\n",
    "def softmax_derivative(x):\n",
    "    return softmax(x) * (1 - softmax(x))\n"
   ]
  },
  {
   "cell_type": "markdown",
   "metadata": {
    "id": "h6HxkvToEDjr"
   },
   "source": [
    "TODO: Perform forward propagation through the network.\n",
    "\n",
    "    Parameters:\n",
    "    - X: Input data (shape: number of examples x input size).\n",
    "    - parameters: Dictionary containing weights and biases.\n",
    "\n",
    "    Returns:\n",
    "    - A2: Output of the network (after activation).\n",
    "    - cache: Dictionary containing intermediate values for backpropagation."
   ]
  },
  {
   "cell_type": "code",
   "execution_count": 37,
   "metadata": {
    "id": "4ylVbZoXECpn",
    "ExecuteTime": {
     "end_time": "2024-11-22T11:54:02.405061181Z",
     "start_time": "2024-11-22T11:54:02.362914609Z"
    }
   },
   "outputs": [],
   "source": [
    "def forward_propagation(X, parameters):\n",
    "    \"\"\"\n",
    "    Perform forward propagation through the network.\n",
    "\n",
    "    Parameters:\n",
    "    - X: Input data (shape: number of examples x input size).\n",
    "    - parameters: Dictionary containing weights and biases.\n",
    "\n",
    "    Returns:\n",
    "    - A2: Output of the network (after activation).\n",
    "    - cache: Dictionary containing intermediate values for backpropagation.\n",
    "    \"\"\"\n",
    "    layers = len(parameters) // 2\n",
    "    cache = {'A0': X}\n",
    "    for i in range(1, layers + 1):\n",
    "        cache[f'Z{i}'] = cache[f'A{i - 1}'] @ parameters[f'W{i}'] + parameters[f'b{i}']\n",
    "        cache[f'A{i}'] = relu(cache[f'Z{i}'])\n",
    "    return cache[f'A{layers}'], cache\n",
    "\n",
    "\n"
   ]
  },
  {
   "cell_type": "markdown",
   "metadata": {
    "id": "-KtURRNUC_NP"
   },
   "source": [
    "TODO: Implement the loss function. Compute the categorical cross-entropy loss.\n",
    "\n",
    "    Parameters:\n",
    "    - y_true: True labels (one-hot encoded).\n",
    "    - y_pred: Predicted probabilities (output of the network).\n",
    "\n",
    "    Returns:\n",
    "    - loss: Computed loss."
   ]
  },
  {
   "cell_type": "code",
   "execution_count": 39,
   "metadata": {
    "id": "advoE8kEC-vk",
    "ExecuteTime": {
     "end_time": "2024-11-22T11:54:38.715160570Z",
     "start_time": "2024-11-22T11:54:38.709564299Z"
    }
   },
   "outputs": [],
   "source": [
    "def compute_loss(y_true, y_pred):\n",
    "    \"\"\"\n",
    "    Compute the categorical cross-entropy loss.\n",
    "\n",
    "    Parameters:\n",
    "    - y_true: True labels (one-hot encoded).\n",
    "    - y_pred: Predicted probabilities (output of the network).\n",
    "\n",
    "    Returns:\n",
    "    - loss: Computed loss.\n",
    "    \"\"\"\n",
    "    return -np.sum(y_true * np.log(y_pred + 0.00001)) / len(y_true)\n",
    "\n",
    "\n",
    "def compute_accuracy(y_true, y_pred):\n",
    "    return np.mean(np.argmax(y_true, axis=1) == np.argmax(y_pred, axis=1))\n",
    "\n"
   ]
  },
  {
   "cell_type": "markdown",
   "metadata": {
    "id": "s5V1D0jUDK3B"
   },
   "source": [
    "TODO: Implement backpropagation for the network and Perform backward propagation through the network.\n",
    "\n",
    "    Parameters:\n",
    "    - X: Input data.\n",
    "    - y_true: True labels.\n",
    "    - parameters: Dictionary containing weights and biases.\n",
    "    - cache: Intermediate values from forward propagation.\n",
    "\n",
    "    Returns:\n",
    "    - gradients: Dictionary containing gradients for weights and biases."
   ]
  },
  {
   "cell_type": "code",
   "execution_count": 29,
   "metadata": {
    "id": "4CxAo9FlBG18",
    "ExecuteTime": {
     "end_time": "2024-11-22T11:50:24.902335036Z",
     "start_time": "2024-11-22T11:50:24.861554154Z"
    }
   },
   "outputs": [],
   "source": [
    "def backward_propagation(X, y_true, parameters, cache):\n",
    "    \"\"\"\n",
    "    Perform backward propagation through the network.\n",
    "\n",
    "    Parameters:\n",
    "    - X: Input data.\n",
    "    - y_true: True labels.\n",
    "    - parameters: Dictionary containing weights and biases.\n",
    "    - cache: Intermediate values from forward propagation.\n",
    "\n",
    "    Returns:\n",
    "    - gradients: Dictionary containing gradients for weights and biases.\n",
    "    \"\"\"\n",
    "\n",
    "    layers = len(parameters) // 2\n",
    "    gradients = {}\n",
    "\n",
    "    for i in range(layers, 0, -1):\n",
    "        if i == layers:\n",
    "            gradients[f'dZ{i}'] = cache[f'A{i}'] - y_true\n",
    "        else:\n",
    "            gradients[f'dZ{i}'] = gradients[f'dA{i}'] * relu_derivative(cache[f'Z{i}'])\n",
    "        gradients[f'dW{i}'] = cache[f'A{i - 1}'].T @ gradients[f'dZ{i}'] / len(y_true)\n",
    "        gradients[f'db{i}'] = np.sum(gradients[f'dZ{i}'], axis=0) / len(y_true)\n",
    "        gradients[f'dA{i - 1}'] = gradients[f'dZ{i}'] @ parameters[f'W{i}'].T\n",
    "\n",
    "    return gradients\n",
    "\n",
    "\n",
    "\n"
   ]
  },
  {
   "cell_type": "markdown",
   "metadata": {
    "id": "LG2cvi3DDe4Q"
   },
   "source": [
    "TODO: Update the parameters using gradient descent.\n",
    "\n",
    "    Parameters:\n",
    "    - parameters: Current weights and biases.\n",
    "    - gradients: Calculated gradients.\n",
    "    - learning_rate: Learning rate for updates.\n",
    "\n",
    "    Returns:\n",
    "    - parameters: Updated weights and biases."
   ]
  },
  {
   "cell_type": "code",
   "execution_count": 21,
   "metadata": {
    "id": "9uMGXPGqDdk4",
    "ExecuteTime": {
     "end_time": "2024-11-22T11:41:35.151057695Z",
     "start_time": "2024-11-22T11:41:35.141037621Z"
    }
   },
   "outputs": [],
   "source": [
    "def update_parameters(parameters, gradients, learning_rate=0.01):\n",
    "    \"\"\"\n",
    "    Update parameters using gradient descent.\n",
    "\n",
    "    Parameters:\n",
    "    - parameters: Current weights and biases.\n",
    "    - gradients: Calculated gradients.\n",
    "    - learning_rate: Learning rate for updates.\n",
    "\n",
    "    Returns:\n",
    "    - parameters: Updated weights and biases.\n",
    "    \"\"\"\n",
    "    layers = len(parameters) // 2\n",
    "    for i in range(1, layers + 1):\n",
    "        parameters[f'W{i}'] -= learning_rate * gradients[f'dW{i}']\n",
    "        parameters[f'b{i}'] -= learning_rate * gradients[f'db{i}']\n",
    "    return parameters\n"
   ]
  },
  {
   "cell_type": "markdown",
   "metadata": {
    "id": "5E4UZg1SD2bM"
   },
   "source": [
    "TODO: Train the model by changing the hidden layer size (such as [32, 64, 128]) and observe the impact on network performance during training.\n",
    "\n",
    "    Train the neural network model.\n",
    "\n",
    "    Parameters:\n",
    "    - X_train: Training data.\n",
    "    - y_train: One-hot encoded labels.\n",
    "    - hidden_size: Number of neurons in the hidden layer.\n",
    "    - epochs: Number of training epochs.\n",
    "    - learning_rate: Learning rate for optimization."
   ]
  },
  {
   "cell_type": "code",
   "execution_count": 57,
   "metadata": {
    "colab": {
     "base_uri": "https://localhost:8080/"
    },
    "id": "GlsAvdUCDzSb",
    "outputId": "39851e5f-dea2-49d0-bdc0-3cbc5cbb08b5",
    "ExecuteTime": {
     "end_time": "2024-11-22T13:11:48.295793419Z",
     "start_time": "2024-11-22T13:10:25.376610111Z"
    }
   },
   "outputs": [
    {
     "name": "stdout",
     "output_type": "stream",
     "text": [
      "\n",
      "Training with hidden size: 32\n",
      "Epoch 10/50 - Loss: 6.9763 - Accuracy: 0.1454\n",
      "Epoch 20/50 - Loss: 4.3499 - Accuracy: 0.2373\n",
      "Epoch 30/50 - Loss: 3.4585 - Accuracy: 0.3347\n",
      "Epoch 40/50 - Loss: 2.9915 - Accuracy: 0.4063\n",
      "Epoch 50/50 - Loss: 2.6744 - Accuracy: 0.4584\n"
     ]
    },
    {
     "data": {
      "text/plain": "<Figure size 640x480 with 1 Axes>",
      "image/png": "[encoded data removed]"
     },
     "metadata": {},
     "output_type": "display_data"
    },
    {
     "name": "stdout",
     "output_type": "stream",
     "text": [
      "\n",
      "Training with hidden size: 64\n",
      "Epoch 10/50 - Loss: 4.1376 - Accuracy: 0.3179\n",
      "Epoch 20/50 - Loss: 2.9110 - Accuracy: 0.4625\n",
      "Epoch 30/50 - Loss: 2.4521 - Accuracy: 0.5339\n",
      "Epoch 40/50 - Loss: 2.1867 - Accuracy: 0.5761\n",
      "Epoch 50/50 - Loss: 2.0187 - Accuracy: 0.6048\n"
     ]
    },
    {
     "data": {
      "text/plain": "<Figure size 640x480 with 1 Axes>",
      "image/png": "[encoded data removed]"
     },
     "metadata": {},
     "output_type": "display_data"
    },
    {
     "name": "stdout",
     "output_type": "stream",
     "text": [
      "\n",
      "Training with hidden size: 128\n",
      "Epoch 10/50 - Loss: 5.3380 - Accuracy: 0.3413\n",
      "Epoch 20/50 - Loss: 3.2826 - Accuracy: 0.4884\n",
      "Epoch 30/50 - Loss: 2.5434 - Accuracy: 0.5684\n",
      "Epoch 40/50 - Loss: 2.2632 - Accuracy: 0.6103\n",
      "Epoch 50/50 - Loss: 2.1030 - Accuracy: 0.6351\n"
     ]
    },
    {
     "data": {
      "text/plain": "<Figure size 640x480 with 1 Axes>",
      "image/png": "[encoded data removed]"
     },
     "metadata": {},
     "output_type": "display_data"
    }
   ],
   "source": [
    "# Training Loop\n",
    "def train_model(X_train, y_train, hidden_size, epochs=50, learning_rate=0.01):\n",
    "    \"\"\"\n",
    "    Train the neural network model.\n",
    "\n",
    "    Parameters:\n",
    "    - X_train: Training data.\n",
    "    - y_train: One-hot encoded labels.\n",
    "    - hidden_size: Number of neurons in the hidden layer.\n",
    "    - epochs: Number of training epochs.\n",
    "    - learning_rate: Learning rate for optimization.\n",
    "    \"\"\"\n",
    "    input_size = X_train.shape[1]\n",
    "    output_size = y_train.shape[1]\n",
    "    parameters = initialize_parameters(input_size, hidden_size, output_size)\n",
    "    loss_history = []\n",
    "    for epoch in range(epochs):\n",
    "        y_pred, cache = forward_propagation(X_train, parameters)\n",
    "        loss = compute_loss(y_train, y_pred)\n",
    "        gradients = backward_propagation(X_train, y_train, parameters, cache)\n",
    "        parameters = update_parameters(parameters, gradients, learning_rate)\n",
    "        loss_history.append(loss)\n",
    "        if (epoch + 1) % 10 == 0:\n",
    "            print(f'Epoch {epoch + 1}/{epochs} - Loss: {loss:.4f} - Accuracy: {compute_accuracy(y_train, y_pred):.4f}')\n",
    "    return loss_history\n",
    "\n",
    "\n",
    "for hidden_size in [32, 64, 128]:\n",
    "    print(f'\\nTraining with hidden size: {hidden_size}')\n",
    "    loss_history = train_model(x_train.reshape(-1, 784), y_train, hidden_size, learning_rate=0.03)\n",
    "    plt.plot(loss_history, label=f'Hidden Size: {hidden_size}')\n",
    "    plt.show()\n"
   ]
  },
  {
   "cell_type": "markdown",
   "metadata": {
    "id": "YuCNlJCHKf1S"
   },
   "source": [
    "TODO: Implement Adam Optimizer\n",
    "\n",
    "1. Initialize Parameters: Create variables to store the moment estimates (first and second) for each parameter.\n",
    "\n",
    "    Parameters:\n",
    "    - parameters: Dictionary containing weights and biases.\n",
    "\n",
    "    Returns:\n",
    "    - v: First moment vector (initialized to zeros).\n",
    "    - s: Second moment vector (initialized to zeros).\n",
    "    - t: Time step (initialized to 0).\n",
    "\n",
    "2. Update Rules: Implement the update rules based on the gradients, learning rate, and moment estimates.\n"
   ]
  },
  {
   "cell_type": "code",
   "execution_count": 66,
   "metadata": {
    "id": "Iqy1_rfsKP8b",
    "ExecuteTime": {
     "end_time": "2024-11-22T13:43:20.128114376Z",
     "start_time": "2024-11-22T13:43:20.086856978Z"
    }
   },
   "outputs": [],
   "source": [
    "def initialize_adam(parameters):\n",
    "    \"\"\"\n",
    "    Initialize the Adam optimizer variables.\n",
    "\n",
    "    Parameters:\n",
    "    - parameters: Dictionary containing weights and biases.\n",
    "\n",
    "    Returns:\n",
    "    - v: First moment vector (initialized to zeros).\n",
    "    - s: Second moment vector (initialized to zeros).\n",
    "    - t: Time step (initialized to 0).\n",
    "    \"\"\"\n",
    "    v = {}\n",
    "    s = {}\n",
    "    t = 0\n",
    "    for key, value in parameters.items():\n",
    "        v[key] = np.zeros_like(value)\n",
    "        s[key] = np.zeros_like(value)\n",
    "    return v, s, t\n",
    "\n",
    "\n",
    "def update_parameters_with_adam(parameters, gradients, v, s, t, learning_rate=0.001, beta1=0.9, beta2=0.999,\n",
    "                                epsilon=1e-8):\n",
    "    \"\"\"\n",
    "    Update parameters using the Adam optimizer.\n",
    "\n",
    "    Parameters:\n",
    "    - parameters: Current weights and biases.\n",
    "    - gradients: Calculated gradients.\n",
    "    - v: First moment vector.\n",
    "    - s: Second moment vector.\n",
    "    - t: Time step.\n",
    "    - learning_rate: Learning rate for updates.\n",
    "    - beta1: Exponential decay rate for the first moment estimates.\n",
    "    - beta2: Exponential decay rate for the second moment estimates.\n",
    "    - epsilon: Small constant for numerical stability.\n",
    "\n",
    "    Returns:\n",
    "    - parameters: Updated weights and biases.\n",
    "    - v: Updated first moment vector.\n",
    "    - s: Updated second moment vector.\n",
    "    - t: Updated time step.\n",
    "    \"\"\"\n",
    "    t += 1\n",
    "    for key in parameters.keys():\n",
    "        v[key] = beta1 * v[key] + (1 - beta1) * gradients[f'd{key}']\n",
    "        s[key] = beta2 * s[key] + (1 - beta2) * gradients[f'd{key}'] ** 2\n",
    "        v_corrected = v[key] / (1 - beta1 ** t)\n",
    "        s_corrected = s[key] / (1 - beta2 ** t)\n",
    "        parameters[key] -= learning_rate * v_corrected / (np.sqrt(s_corrected) + epsilon)\n",
    "    return parameters, v, s, t\n"
   ]
  },
  {
   "cell_type": "markdown",
   "metadata": {
    "id": "-mU6NQXdLQd_"
   },
   "source": [
    "TODO: Implement Adam optimizer into the training loop."
   ]
  },
  {
   "cell_type": "code",
   "execution_count": 68,
   "metadata": {
    "colab": {
     "base_uri": "https://localhost:8080/"
    },
    "id": "NMPqxphzKSv8",
    "outputId": "10d1696e-ad85-407e-def8-c2cbd424bb97",
    "ExecuteTime": {
     "end_time": "2024-11-22T13:44:19.975420255Z",
     "start_time": "2024-11-22T13:43:38.208358921Z"
    }
   },
   "outputs": [
    {
     "name": "stdout",
     "output_type": "stream",
     "text": [
      "Epoch 10/50 - Loss: 9.4146 - Accuracy: 0.3221\n",
      "Epoch 20/50 - Loss: 5.8848 - Accuracy: 0.4880\n",
      "Epoch 30/50 - Loss: 3.2793 - Accuracy: 0.6734\n",
      "Epoch 40/50 - Loss: 1.7538 - Accuracy: 0.7365\n",
      "Epoch 50/50 - Loss: 1.3557 - Accuracy: 0.7707\n"
     ]
    }
   ],
   "source": [
    "def train_model_with_adam(X_train, y_train, hidden_size, epochs=50, learning_rate=0.001):\n",
    "    \"\"\"\n",
    "    Train the neural network model using Adam optimizer.\n",
    "\n",
    "    Parameters:\n",
    "    - X_train: Training data.\n",
    "    - y_train: One-hot encoded labels.\n",
    "    - hidden_size: Number of neurons in the hidden layer.\n",
    "    - epochs: Number of training epochs.\n",
    "    - learning_rate: Learning rate for optimization.\n",
    "    \"\"\"\n",
    "    input_size = X_train.shape[1]\n",
    "    output_size = y_train.shape[1]\n",
    "    parameters = initialize_parameters(input_size, hidden_size, output_size)\n",
    "    v, s, t = initialize_adam(parameters)\n",
    "    loss_history = []\n",
    "    for epoch in range(epochs):\n",
    "        y_pred, cache = forward_propagation(X_train, parameters)\n",
    "        loss = compute_loss(y_train, y_pred)\n",
    "        gradients = backward_propagation(X_train, y_train, parameters, cache)\n",
    "        parameters, v, s, t = update_parameters_with_adam(parameters, gradients, v, s, t, learning_rate)\n",
    "        loss_history.append(loss)\n",
    "        if (epoch + 1) % 10 == 0:\n",
    "            print(f'Epoch {epoch + 1}/{epochs} - Loss: {loss:.4f} - Accuracy: {compute_accuracy(y_train, y_pred):.4f}')\n",
    "    return loss_history\n",
    "\n",
    "\n",
    "loss = train_model_with_adam(x_train.reshape(-1, 784), y_train, 128, epochs=50, learning_rate=0.01)"
   ]
  },
  {
   "cell_type": "markdown",
   "metadata": {
    "id": "fEZVkGGplXP4"
   },
   "source": [
    "### Compare Adam and RMSprop\n"
   ]
  },
  {
   "cell_type": "markdown",
   "metadata": {
    "id": "7BxQoqf8ak2k"
   },
   "source": [
    "TODO: First, implement the RMSprop optimizer. The RMSprop optimizer uses a moving average of squared gradients to normalize the gradient, which helps to stabilize the updates."
   ]
  },
  {
   "cell_type": "code",
   "execution_count": 69,
   "metadata": {
    "id": "117xMpE6avQ2",
    "ExecuteTime": {
     "end_time": "2024-11-22T13:45:02.881052236Z",
     "start_time": "2024-11-22T13:45:02.840030873Z"
    }
   },
   "outputs": [],
   "source": [
    "def initialize_rmsprop(parameters):\n",
    "    \"\"\"\n",
    "    Initialize the RMSprop variables.\n",
    "\n",
    "    Parameters:\n",
    "    - parameters: Dictionary containing weights and biases.\n",
    "\n",
    "    Returns:\n",
    "    - s: Second moment vector (initialized to zeros).\n",
    "    \"\"\"\n",
    "    s = {}\n",
    "    for key, value in parameters.items():\n",
    "        s[key] = np.zeros_like(value)\n",
    "    return s\n",
    "\n",
    "\n",
    "def update_parameters_with_rmsprop(parameters, gradients, s, learning_rate=0.001, beta=0.9, epsilon=1e-8):\n",
    "    \"\"\"\n",
    "    Update parameters using the RMSprop optimizer.\n",
    "\n",
    "    Parameters:\n",
    "    - parameters: Current weights and biases.\n",
    "    - gradients: Calculated gradients.\n",
    "    - s: Second moment vector.\n",
    "    - learning_rate: Learning rate for updates.\n",
    "    - beta: Exponential decay rate for the second moment estimates.\n",
    "    - epsilon: Small constant for numerical stability.\n",
    "\n",
    "    Returns:\n",
    "    - parameters: Updated weights and biases.\n",
    "    - s: Updated second moment vector.\n",
    "    \"\"\"\n",
    "    for key in parameters.keys():\n",
    "        s[key] = beta * s[key] + (1 - beta) * gradients[f'd{key}'] ** 2\n",
    "        parameters[key] -= learning_rate * gradients[f'd{key}'] / (np.sqrt(s[key]) + epsilon)\n",
    "    return parameters, s\n",
    "\n"
   ]
  },
  {
   "cell_type": "markdown",
   "metadata": {
    "id": "GWJg1GjFayY2"
   },
   "source": [
    "TODO: Modify the training loop to allow for both optimizers and store the loss history for comparison."
   ]
  },
  {
   "cell_type": "code",
   "execution_count": 71,
   "metadata": {
    "id": "iwcuRTkja5pT",
    "ExecuteTime": {
     "end_time": "2024-11-22T13:48:34.881963270Z",
     "start_time": "2024-11-22T13:47:53.575135112Z"
    }
   },
   "outputs": [
    {
     "name": "stdout",
     "output_type": "stream",
     "text": [
      "Epoch 10/50 - Loss: 7.8485 - Accuracy: 0.4468\n",
      "Epoch 20/50 - Loss: 2.5257 - Accuracy: 0.6381\n",
      "Epoch 30/50 - Loss: 4.0890 - Accuracy: 0.6141\n",
      "Epoch 40/50 - Loss: 3.1899 - Accuracy: 0.6589\n",
      "Epoch 50/50 - Loss: 0.8166 - Accuracy: 0.7392\n"
     ]
    }
   ],
   "source": [
    "def train_model(X_train, y_train, hidden_size, epochs=50, learning_rate=0.003, optimizer='adam'):\n",
    "    \"\"\"\n",
    "    Train the neural network model using specified optimizer.\n",
    "\n",
    "    Parameters:\n",
    "    - X_train: Training data.\n",
    "    - y_train: One-hot encoded labels.\n",
    "    - hidden_size: Number of neurons in the hidden layer.\n",
    "    - epochs: Number of training epochs.\n",
    "    - learning_rate: Learning rate for optimization.\n",
    "    - optimizer: The optimizer to use ('adam' or 'rmsprop').\n",
    "\n",
    "    Returns:\n",
    "    - loss_history: List of loss values over epochs.\n",
    "    \"\"\"\n",
    "    if optimizer == 'adam':\n",
    "        return train_model_with_adam(X_train, y_train, hidden_size, epochs, learning_rate)\n",
    "\n",
    "    input_size = X_train.shape[1]\n",
    "    output_size = y_train.shape[1]\n",
    "    parameters = initialize_parameters(input_size, hidden_size, output_size)\n",
    "    s = initialize_rmsprop(parameters)\n",
    "    loss_history = []\n",
    "    for epoch in range(epochs):\n",
    "        y_pred, cache = forward_propagation(X_train, parameters)\n",
    "        loss = compute_loss(y_train, y_pred)\n",
    "        gradients = backward_propagation(X_train, y_train, parameters, cache)\n",
    "        parameters, s = update_parameters_with_rmsprop(parameters, gradients, s, learning_rate)\n",
    "        loss_history.append(loss)\n",
    "        if (epoch + 1) % 10 == 0:\n",
    "            print(f'Epoch {epoch + 1}/{epochs} - Loss: {loss:.4f} - Accuracy: {compute_accuracy(y_train, y_pred):.4f}')\n",
    "    return loss_history\n",
    "\n",
    "\n",
    "loss = train_model(x_train.reshape(-1, 784), y_train, 128, epochs=50, learning_rate=0.003, optimizer='rmsprop')"
   ]
  },
  {
   "cell_type": "markdown",
   "metadata": {
    "id": "g5cPzN1ma9Xi"
   },
   "source": [
    "TODO:  Compare Both Optimizers. Create a function to train the model using both optimizers and plot the loss histories for comparison."
   ]
  },
  {
   "cell_type": "code",
   "execution_count": 74,
   "metadata": {
    "colab": {
     "base_uri": "https://localhost:8080/",
     "height": 801
    },
    "id": "-z5eRURgbDIG",
    "outputId": "a292b2ab-8d4f-456b-b32f-6bff5cc18205",
    "ExecuteTime": {
     "end_time": "2024-11-22T13:55:24.067993881Z",
     "start_time": "2024-11-22T13:52:39.218613414Z"
    }
   },
   "outputs": [
    {
     "name": "stdout",
     "output_type": "stream",
     "text": [
      "Training with Adam optimizer\n",
      "Epoch 10/100 - Loss: 6.3888 - Accuracy: 0.3609\n",
      "Epoch 20/100 - Loss: 2.5675 - Accuracy: 0.6255\n",
      "Epoch 30/100 - Loss: 2.0234 - Accuracy: 0.6973\n",
      "Epoch 40/100 - Loss: 1.7168 - Accuracy: 0.7322\n",
      "Epoch 50/100 - Loss: 1.4129 - Accuracy: 0.7583\n",
      "Epoch 60/100 - Loss: 1.3721 - Accuracy: 0.7740\n",
      "Epoch 70/100 - Loss: 1.2675 - Accuracy: 0.7870\n",
      "Epoch 80/100 - Loss: 1.1710 - Accuracy: 0.7971\n",
      "Epoch 90/100 - Loss: 1.1037 - Accuracy: 0.8059\n",
      "Epoch 100/100 - Loss: 1.0594 - Accuracy: 0.8117\n",
      "\n",
      "Training with RMSprop optimizer\n",
      "Epoch 10/100 - Loss: 2.5261 - Accuracy: 0.5371\n",
      "Epoch 20/100 - Loss: 2.7322 - Accuracy: 0.6596\n",
      "Epoch 30/100 - Loss: 1.7455 - Accuracy: 0.6962\n",
      "Epoch 40/100 - Loss: 2.4580 - Accuracy: 0.7084\n",
      "Epoch 50/100 - Loss: 2.0623 - Accuracy: 0.7301\n",
      "Epoch 60/100 - Loss: 1.4109 - Accuracy: 0.7447\n",
      "Epoch 70/100 - Loss: 1.2202 - Accuracy: 0.7742\n",
      "Epoch 80/100 - Loss: 0.9190 - Accuracy: 0.7846\n",
      "Epoch 90/100 - Loss: 1.4995 - Accuracy: 0.7801\n",
      "Epoch 100/100 - Loss: 1.0415 - Accuracy: 0.7990\n"
     ]
    },
    {
     "data": {
      "text/plain": "<Figure size 640x480 with 1 Axes>",
      "image/png": "[encoded data removed]"
     },
     "metadata": {},
     "output_type": "display_data"
    }
   ],
   "source": [
    "def compare_optimizers(X_train, y_train, hidden_size, epochs=50):\n",
    "    \"\"\"\n",
    "    Compare the Adam and RMSprop optimizers.\n",
    "\n",
    "    Parameters:\n",
    "    - X_train: Training data.\n",
    "    - y_train: One-hot encoded labels.\n",
    "    - hidden_size: Number of neurons in the hidden layer.\n",
    "    - epochs: Number of training epochs.\n",
    "    \"\"\"\n",
    "    print('Training with Adam optimizer')\n",
    "    loss_adam = train_model(X_train, y_train, hidden_size, epochs, optimizer='adam')\n",
    "    print('\\nTraining with RMSprop optimizer')\n",
    "    loss_rmsprop = train_model(X_train, y_train, hidden_size, epochs, optimizer='rmsprop')\n",
    "    plt.plot(loss_adam, label='Adam')\n",
    "    plt.plot(loss_rmsprop, label='RMSprop')\n",
    "    plt.legend()\n",
    "    plt.show()\n",
    "\n",
    "\n",
    "compare_optimizers(x_train.reshape(-1, 784), y_train, 128, epochs=100)"
   ]
  },
  {
   "cell_type": "markdown",
   "metadata": {
    "id": "pueHFmTUlXP5"
   },
   "source": [
    "## Stochastic Gradient Descent (SGD)"
   ]
  },
  {
   "cell_type": "markdown",
   "metadata": {
    "id": "3zrSW4LilXP5"
   },
   "source": [
    "### Impact of Different Learning Rates on SGD\n"
   ]
  },
  {
   "cell_type": "markdown",
   "metadata": {
    "id": "BU9BiBsKcWjb"
   },
   "source": [
    "Explore the impact of different learning rates on the training dynamics and performance of Stochastic Gradient Descent (SGD). This will allow us to observe how the learning rate affects convergence speed, stability, and final performance.\n",
    "\n",
    "Steps for Implementing the Experiment\n",
    "\n",
    "1. Define the SGD Optimizer: Implement a simple SGD optimizer.\n",
    "2. Modify the Training Loop: Allow for different learning rates.\n",
    "3. Train the Model: Run the training process with a set of predefined learning rates.\n",
    "4. Visualize the Results: Plot the loss curves for each learning rate to compare their effects"
   ]
  },
  {
   "cell_type": "markdown",
   "metadata": {
    "id": "vDRSuNVrcvVI"
   },
   "source": [
    "1. Implement SGD Optimizer\n"
   ]
  },
  {
   "cell_type": "code",
   "execution_count": 76,
   "metadata": {
    "id": "r9UE2OHfcwCe",
    "ExecuteTime": {
     "end_time": "2024-11-22T13:58:15.884145107Z",
     "start_time": "2024-11-22T13:58:15.843468761Z"
    }
   },
   "outputs": [],
   "source": [
    "def update_parameters_with_sgd(parameters, gradients, learning_rate=0.01):\n",
    "    \"\"\"\n",
    "    Update parameters using Stochastic Gradient Descent (SGD).\n",
    "\n",
    "    Parameters:\n",
    "    - parameters: Current weights and biases.\n",
    "    - gradients: Calculated gradients.\n",
    "    - learning_rate: Learning rate for updates.\n",
    "\n",
    "    Returns:\n",
    "    - parameters: Updated weights and biases.\n",
    "    \"\"\"\n",
    "\n",
    "    for key in parameters.keys():\n",
    "        parameters[key] -= learning_rate * gradients[f'd{key}']\n",
    "\n",
    "    return parameters\n",
    "\n"
   ]
  },
  {
   "cell_type": "markdown",
   "metadata": {
    "id": "O4qIjyg9cyXB"
   },
   "source": [
    "2. Modify the Training Loop\n"
   ]
  },
  {
   "cell_type": "code",
   "execution_count": 102,
   "metadata": {
    "id": "U1gKM56IdBH-",
    "ExecuteTime": {
     "end_time": "2024-11-22T14:49:37.810067920Z",
     "start_time": "2024-11-22T14:49:37.768649563Z"
    }
   },
   "outputs": [],
   "source": [
    "def train_model_with_sgd(X_train, y_train, hidden_size, epochs=50, learning_rate=0.01):\n",
    "    \"\"\"\n",
    "    Train the neural network model using SGD optimizer.\n",
    "\n",
    "    Parameters:\n",
    "    - X_train: Training data.\n",
    "    - y_train: One-hot encoded labels.\n",
    "    - hidden_size: Number of neurons in the hidden layer.\n",
    "    - epochs: Number of training epochs.\n",
    "    - learning_rate: Learning rate for optimization.\n",
    "\n",
    "    Returns:\n",
    "    - loss_history: List of loss values over epochs.\n",
    "    \"\"\"\n",
    "\n",
    "    input_size = X_train.shape[1]\n",
    "    output_size = y_train.shape[1]\n",
    "    parameters = initialize_parameters(input_size, hidden_size, output_size)\n",
    "    loss_history = []\n",
    "    for epoch in range(epochs):\n",
    "        y_pred, cache = forward_propagation(X_train, parameters)\n",
    "        loss = compute_loss(y_train, y_pred)\n",
    "        gradients = backward_propagation(X_train, y_train, parameters, cache)\n",
    "        parameters = update_parameters_with_sgd(parameters, gradients, learning_rate)\n",
    "        loss_history.append(loss)\n",
    "        if (epoch + 1) % 10 == 0:\n",
    "            print(f'Epoch {epoch + 1}/{epochs} - Loss: {loss:.4f} - Accuracy: {compute_accuracy(y_train, y_pred):.4f}')\n",
    "\n",
    "    return loss_history\n",
    "\n"
   ]
  },
  {
   "cell_type": "markdown",
   "metadata": {
    "id": "CeQpjFQHdD4v"
   },
   "source": [
    "3. Experiment with Different Learning Rates\n"
   ]
  },
  {
   "cell_type": "code",
   "execution_count": 103,
   "metadata": {
    "colab": {
     "base_uri": "https://localhost:8080/",
     "height": 948
    },
    "id": "FvFIXxFRdGDv",
    "outputId": "034c4386-19bc-4869-c0f8-693c698eb9fe",
    "ExecuteTime": {
     "end_time": "2024-11-22T14:51:48.373058923Z",
     "start_time": "2024-11-22T14:49:39.751585225Z"
    }
   },
   "outputs": [
    {
     "name": "stdout",
     "output_type": "stream",
     "text": [
      "\n",
      "Training with learning rate: 0.001\n",
      "Epoch 10/50 - Loss: 5.9504 - Accuracy: 0.1177\n",
      "Epoch 20/50 - Loss: 7.1735 - Accuracy: 0.1359\n",
      "Epoch 30/50 - Loss: 7.6819 - Accuracy: 0.1460\n",
      "Epoch 40/50 - Loss: 7.8806 - Accuracy: 0.1558\n",
      "Epoch 50/50 - Loss: 7.9053 - Accuracy: 0.1661\n",
      "\n",
      "Training with learning rate: 0.01\n",
      "Epoch 10/50 - Loss: 6.5805 - Accuracy: 0.2308\n",
      "Epoch 20/50 - Loss: 4.5383 - Accuracy: 0.3422\n",
      "Epoch 30/50 - Loss: 3.7213 - Accuracy: 0.4150\n",
      "Epoch 40/50 - Loss: 3.2853 - Accuracy: 0.4660\n",
      "Epoch 50/50 - Loss: 3.0218 - Accuracy: 0.5030\n",
      "\n",
      "Training with learning rate: 0.1\n",
      "Epoch 10/50 - Loss: 3.6122 - Accuracy: 0.5569\n",
      "Epoch 20/50 - Loss: 2.3975 - Accuracy: 0.6208\n",
      "Epoch 30/50 - Loss: 1.7540 - Accuracy: 0.6698\n",
      "Epoch 40/50 - Loss: 1.5607 - Accuracy: 0.6953\n",
      "Epoch 50/50 - Loss: 1.4438 - Accuracy: 0.7111\n"
     ]
    },
    {
     "data": {
      "text/plain": "<Figure size 640x480 with 1 Axes>",
      "image/png": "[encoded data removed]"
     },
     "metadata": {},
     "output_type": "display_data"
    }
   ],
   "source": [
    "def compare_learning_rates(X_train, y_train, hidden_size, epochs=50, learning_rates=[0.001, 0.01, 0.1]):\n",
    "    \"\"\"\n",
    "    Compare the performance of SGD with different learning rates.\n",
    "\n",
    "    Parameters:\n",
    "    - X_train: Training data.\n",
    "    - y_train: One-hot encoded labels.\n",
    "    - hidden_size: Number of neurons in the hidden layer.\n",
    "    - epochs: Number of training epochs.\n",
    "    - learning_rates: List of learning rates to test.\n",
    "    \"\"\"\n",
    "    for learning_rate in learning_rates:\n",
    "        print(f'\\nTraining with learning rate: {learning_rate}')\n",
    "        loss_history = train_model_with_sgd(X_train, y_train, hidden_size, epochs, learning_rate)\n",
    "        plt.plot(loss_history, label=f'Learning Rate: {learning_rate}')\n",
    "\n",
    "    plt.legend()\n",
    "\n",
    "\n",
    "compare_learning_rates(x_train.reshape(-1, 784), y_train, 128, epochs=50)"
   ]
  },
  {
   "cell_type": "markdown",
   "metadata": {
    "id": "IXxuYU7llXP6"
   },
   "source": [
    "### SGD with Momentum vs. Classic SGD\n"
   ]
  },
  {
   "cell_type": "markdown",
   "metadata": {
    "id": "R8dcD51aepnC"
   },
   "source": [
    "TODO: Compare Stochastic Gradient Descent (SGD) with momentum and classic SGD, you can set up an experiment that trains the same model using both methods. This will help you observe differences in convergence speed and stability.\n",
    "\n",
    "Steps for Implementing the Comparison:\n",
    "\n",
    "1. Implement Classic SGD: Ensure you have a basic SGD implementation.(already implemented in the previous cells)\n",
    "\n",
    "2. Implement SGD with Momentum: Add a momentum version of the SGD optimizer.\n",
    "\n",
    "3. Modify the Training Loop: Allow for both optimizers in the training process.\n",
    "\n",
    "4. Train the Model: Run the training process using both optimizers.\n",
    "\n",
    "5. Visualize the Results: Plot the loss curves for each optimizer to compare their performance."
   ]
  },
  {
   "cell_type": "markdown",
   "metadata": {
    "id": "9-czqAXNe_nQ"
   },
   "source": [
    "2. Implement SGD with Momentum\n"
   ]
  },
  {
   "cell_type": "code",
   "execution_count": 104,
   "metadata": {
    "id": "8uzLkhWcfB6a",
    "ExecuteTime": {
     "end_time": "2024-11-22T14:52:05.208925572Z",
     "start_time": "2024-11-22T14:52:05.199093348Z"
    }
   },
   "outputs": [],
   "source": [
    "def initialize_momentum(parameters):\n",
    "    \"\"\"\n",
    "    Initialize the momentum variables.\n",
    "\n",
    "    Parameters:\n",
    "    - parameters: Dictionary containing weights and biases.\n",
    "\n",
    "    Returns:\n",
    "    - v: Momentum variable (initialized to zeros).\n",
    "    \"\"\"\n",
    "    v = {}\n",
    "    for key, value in parameters.items():\n",
    "        v[key] = np.zeros_like(value)\n",
    "    return v\n",
    "\n",
    "\n",
    "def update_parameters_with_momentum(parameters, gradients, v, learning_rate=0.01, beta=0.9):\n",
    "    \"\"\"\n",
    "    Update parameters using SGD with momentum.\n",
    "\n",
    "    Parameters:\n",
    "    - parameters: Current weights and biases.\n",
    "    - gradients: Calculated gradients.\n",
    "    - v: Momentum variable.\n",
    "    - learning_rate: Learning rate for updates.\n",
    "    - beta: Exponential decay rate for momentum.\n",
    "\n",
    "    Returns:\n",
    "    - parameters: Updated weights and biases.\n",
    "    - v: Updated momentum variable.\n",
    "    \"\"\"\n",
    "    for key in parameters.keys():\n",
    "        v[key] = beta * v[key] + (1 - beta) * gradients[f'd{key}']\n",
    "        parameters[key] -= learning_rate * v[key]\n",
    "    return parameters, v\n"
   ]
  },
  {
   "cell_type": "markdown",
   "metadata": {
    "id": "k_DvOLijfIFK"
   },
   "source": [
    "3. Modify the Training Loop\n"
   ]
  },
  {
   "cell_type": "code",
   "execution_count": 108,
   "metadata": {
    "id": "uz3jxDtCfIuA",
    "ExecuteTime": {
     "end_time": "2024-11-22T14:53:02.391070848Z",
     "start_time": "2024-11-22T14:53:02.350119402Z"
    }
   },
   "outputs": [],
   "source": [
    "def train_model(X_train, y_train, hidden_size, epochs=50, learning_rate=0.01, optimizer='sgd'):\n",
    "    \"\"\"\n",
    "    Train the neural network model using specified optimizer.\n",
    "\n",
    "    Parameters:\n",
    "    - X_train: Training data.\n",
    "    - y_train: One-hot encoded labels.\n",
    "    - hidden_size: Number of neurons in the hidden layer.\n",
    "    - epochs: Number of training epochs.\n",
    "    - learning_rate: Learning rate for optimization.\n",
    "    - optimizer: The optimizer to use ('sgd' or 'momentum').\n",
    "\n",
    "    Returns:\n",
    "    - loss_history: List of loss values over epochs.\n",
    "    \"\"\"\n",
    "    if optimizer == 'sgd':\n",
    "        return train_model_with_sgd(X_train, y_train, hidden_size, epochs, learning_rate)\n",
    "\n",
    "    input_size = X_train.shape[1]\n",
    "    output_size = y_train.shape[1]\n",
    "    parameters = initialize_parameters(input_size, hidden_size, output_size)\n",
    "    v = initialize_momentum(parameters)\n",
    "    loss_history = []\n",
    "    for epoch in range(epochs):\n",
    "        y_pred, cache = forward_propagation(X_train, parameters)\n",
    "        loss = compute_loss(y_train, y_pred)\n",
    "        gradients = backward_propagation(X_train, y_train, parameters, cache)\n",
    "        parameters, v = update_parameters_with_momentum(parameters, gradients, v, learning_rate)\n",
    "        loss_history.append(loss)\n",
    "\n",
    "        if (epoch + 1) % 10 == 0:\n",
    "            print(f'Epoch {epoch + 1}/{epochs} - Loss: {loss:.4f} - Accuracy: {compute_accuracy(y_train, y_pred):.4f}')\n",
    "    return loss_history"
   ]
  },
  {
   "cell_type": "markdown",
   "metadata": {
    "id": "wVbv6XeYfLbf"
   },
   "source": [
    "4. Train the Model with Both Optimizers\n"
   ]
  },
  {
   "cell_type": "code",
   "execution_count": 111,
   "metadata": {
    "colab": {
     "base_uri": "https://localhost:8080/",
     "height": 801
    },
    "id": "0zEcNXJGfOTf",
    "outputId": "3d69406a-d63b-4960-ea0a-7680fd4ab5ad",
    "ExecuteTime": {
     "end_time": "2024-11-22T14:55:30.874996463Z",
     "start_time": "2024-11-22T14:54:05.794791818Z"
    }
   },
   "outputs": [
    {
     "name": "stdout",
     "output_type": "stream",
     "text": [
      "Training with Classic SGD\n",
      "Epoch 10/50 - Loss: 7.7621 - Accuracy: 0.1802\n",
      "Epoch 20/50 - Loss: 5.6135 - Accuracy: 0.2891\n",
      "Epoch 30/50 - Loss: 4.5981 - Accuracy: 0.3803\n",
      "Epoch 40/50 - Loss: 3.9929 - Accuracy: 0.4451\n",
      "Epoch 50/50 - Loss: 3.5929 - Accuracy: 0.4914\n",
      "\n",
      "Training with SGD with Momentum\n",
      "Epoch 10/50 - Loss: 10.8987 - Accuracy: 0.1409\n",
      "Epoch 20/50 - Loss: 10.8284 - Accuracy: 0.1478\n",
      "Epoch 30/50 - Loss: 7.1986 - Accuracy: 0.2461\n",
      "Epoch 40/50 - Loss: 4.5280 - Accuracy: 0.3352\n",
      "Epoch 50/50 - Loss: 4.1923 - Accuracy: 0.3968\n"
     ]
    },
    {
     "data": {
      "text/plain": "<Figure size 640x480 with 1 Axes>",
      "image/png": "[encoded data removed]"
     },
     "metadata": {},
     "output_type": "display_data"
    }
   ],
   "source": [
    "def compare_sgd_and_momentum(X_train, y_train, hidden_size, epochs=50, learning_rate=0.01):\n",
    "    \"\"\"\n",
    "    Compare the performance of classic SGD and SGD with momentum.\n",
    "\n",
    "    Parameters:\n",
    "    - X_train: Training data.\n",
    "    - y_train: One-hot encoded labels.\n",
    "    - hidden_size: Number of neurons in the hidden layer.\n",
    "    - epochs: Number of training epochs.\n",
    "    \"\"\"\n",
    "\n",
    "    print('Training with Classic SGD')\n",
    "    loss_sgd = train_model(X_train, y_train, hidden_size, epochs, optimizer='sgd', learning_rate=learning_rate)\n",
    "\n",
    "    print('\\nTraining with SGD with Momentum')\n",
    "    loss_momentum = train_model(X_train, y_train, hidden_size, epochs, optimizer='momentum',\n",
    "                                learning_rate=learning_rate)\n",
    "\n",
    "    plt.plot(loss_sgd, label='SGD')\n",
    "    plt.plot(loss_momentum, label='Momentum')\n",
    "    plt.legend()\n",
    "    plt.show()\n",
    "\n",
    "\n",
    "compare_sgd_and_momentum(x_train.reshape(-1, 784), y_train, 128, epochs=50)"
   ]
  },
  {
   "cell_type": "markdown",
   "metadata": {
    "id": "OhaXIjuClXP6"
   },
   "source": [
    "## Mini-Batch Gradient Descent"
   ]
  },
  {
   "cell_type": "markdown",
   "metadata": {
    "id": "wpBVHm6elXP6"
   },
   "source": [
    "### Mini-Batch Size Optimization"
   ]
  },
  {
   "cell_type": "markdown",
   "metadata": {
    "id": "rUDwKXOAgc2h"
   },
   "source": [
    "TODO: Investigate how different mini-batch sizes affect model performance, you can set up an experiment where you train the same model using various mini-batch sizes.\n",
    "\n",
    "Steps for Implementing the Mini-Batch Size Experiment\n",
    "\n",
    "1. Modify the Training Loop: Update the training loop to use mini-batches.\n",
    "2. Train the Model: Run the training process with a set of predefined mini-batch sizes.\n",
    "3. Evaluate Performance: Track training time and accuracy for each mini-batch size.\n",
    "4. Print the training losses and accuracies for comparison."
   ]
  },
  {
   "cell_type": "markdown",
   "metadata": {
    "id": "sz2dJu_PgvJH"
   },
   "source": [
    "1. Modify the Training Loop for Mini-Batches\n"
   ]
  },
  {
   "cell_type": "code",
   "execution_count": 112,
   "metadata": {
    "id": "2eBWqUKwgqqN",
    "ExecuteTime": {
     "end_time": "2024-11-22T14:58:25.611180019Z",
     "start_time": "2024-11-22T14:58:25.569091232Z"
    }
   },
   "outputs": [],
   "source": [
    "def train_model_with_mini_batches(X_train, y_train, hidden_size, epochs=50, learning_rate=0.01, batch_size=32):\n",
    "    \"\"\"\n",
    "    Train the neural network model using mini-batches.\n",
    "\n",
    "    Parameters:\n",
    "    - X_train: Training data.\n",
    "    - y_train: One-hot encoded labels.\n",
    "    - hidden_size: Number of neurons in the hidden layer.\n",
    "    - epochs: Number of training epochs.\n",
    "    - learning_rate: Learning rate for optimization.\n",
    "    - batch_size: Size of mini-batches.\n",
    "\n",
    "    Returns:\n",
    "    - loss_history: List of loss values over epochs.\n",
    "    - accuracy_history: List of accuracy values over epochs.\n",
    "    \"\"\"\n",
    "\n",
    "    input_size = X_train.shape[1]\n",
    "    output_size = y_train.shape[1]\n",
    "    parameters = initialize_parameters(input_size, hidden_size, output_size)\n",
    "    loss_history = []\n",
    "    for epoch in range(epochs):\n",
    "        for i in range(0, len(X_train), batch_size):\n",
    "            X_batch = X_train[i:i + batch_size]\n",
    "            y_batch = y_train[i:i + batch_size]\n",
    "            y_pred, cache = forward_propagation(X_batch, parameters)\n",
    "            gradients = backward_propagation(X_batch, y_batch, parameters, cache)\n",
    "            parameters = update_parameters_with_sgd(parameters, gradients, learning_rate)\n",
    "        y_pred, _ = forward_propagation(X_train, parameters)\n",
    "        loss = compute_loss(y_train, y_pred)\n",
    "        loss_history.append(loss)\n",
    "        if (epoch + 1) % 10 == 0:\n",
    "            print(f'Epoch {epoch + 1}/{epochs} - Loss: {loss:.4f} - Accuracy: {compute_accuracy(y_train, y_pred):.4f}')\n",
    "    return loss_history\n"
   ]
  },
  {
   "cell_type": "markdown",
   "metadata": {
    "id": "ja1aWHjwgwMl"
   },
   "source": [
    "2. Train the Model with Different Mini-Batch Sizes\n"
   ]
  },
  {
   "cell_type": "code",
   "execution_count": 114,
   "metadata": {
    "colab": {
     "base_uri": "https://localhost:8080/"
    },
    "id": "R7vvj-y_is_k",
    "outputId": "7bca490c-a4a5-4865-8448-37d26546cfc5",
    "ExecuteTime": {
     "end_time": "2024-11-22T15:04:32.344481170Z",
     "start_time": "2024-11-22T14:58:36.981236669Z"
    }
   },
   "outputs": [
    {
     "name": "stdout",
     "output_type": "stream",
     "text": [
      "\n",
      "Training with mini-batch size: 16\n",
      "Epoch 10/50 - Loss: 0.5200 - Accuracy: 0.8728\n",
      "Epoch 20/50 - Loss: 0.4513 - Accuracy: 0.8878\n",
      "Epoch 30/50 - Loss: 0.4066 - Accuracy: 0.8975\n",
      "Epoch 40/50 - Loss: 0.3806 - Accuracy: 0.9049\n",
      "Epoch 50/50 - Loss: 0.3575 - Accuracy: 0.9109\n",
      "Final Loss for batch size 16: 0.3575\n",
      "\n",
      "Training with mini-batch size: 32\n",
      "Epoch 10/50 - Loss: 0.5868 - Accuracy: 0.8596\n",
      "Epoch 20/50 - Loss: 0.5151 - Accuracy: 0.8740\n",
      "Epoch 30/50 - Loss: 0.4748 - Accuracy: 0.8822\n",
      "Epoch 40/50 - Loss: 0.4451 - Accuracy: 0.8883\n",
      "Epoch 50/50 - Loss: 0.4212 - Accuracy: 0.8939\n",
      "Final Loss for batch size 32: 0.4212\n",
      "\n",
      "Training with mini-batch size: 64\n",
      "Epoch 10/50 - Loss: 0.6977 - Accuracy: 0.8455\n",
      "Epoch 20/50 - Loss: 0.6125 - Accuracy: 0.8608\n",
      "Epoch 30/50 - Loss: 0.5668 - Accuracy: 0.8700\n",
      "Epoch 40/50 - Loss: 0.5309 - Accuracy: 0.8764\n",
      "Epoch 50/50 - Loss: 0.5037 - Accuracy: 0.8815\n",
      "Final Loss for batch size 64: 0.5037\n"
     ]
    }
   ],
   "source": [
    "def compare_mini_batch_sizes(X_train, y_train, hidden_size, epochs=50, batch_sizes=[16, 32, 64]):\n",
    "    \"\"\"\n",
    "    Compare the performance of different mini-batch sizes and print results.\n",
    "\n",
    "    Parameters:\n",
    "    - X_train: Training data.\n",
    "    - y_train: One-hot encoded labels.\n",
    "    - hidden_size: Number of neurons in the hidden layer.\n",
    "    - epochs: Number of training epochs.\n",
    "    - batch_sizes: List of mini-batch sizes to test.\n",
    "    \"\"\"\n",
    "    for batch_size in batch_sizes:\n",
    "        print(f'\\nTraining with mini-batch size: {batch_size}')\n",
    "        loss_history = train_model_with_mini_batches(X_train, y_train, hidden_size, epochs, batch_size=batch_size)\n",
    "        print(f'Final Loss for batch size {batch_size}: {loss_history[-1]:.4f}')\n",
    "\n",
    "\n",
    "compare_mini_batch_sizes(x_train.reshape(-1, 784), y_train, 128, epochs=50)"
   ]
  },
  {
   "cell_type": "markdown",
   "metadata": {
    "id": "wb3WXFgMlXP7"
   },
   "source": [
    "### Mini-Batch vs. Full-Batch Gradient Descent\n"
   ]
  },
  {
   "cell_type": "markdown",
   "metadata": {
    "id": "vVvy9f6PlPCS"
   },
   "source": [
    "TODO: Compare the efficiency and performance of mini-batch gradient descent against full-batch gradient descent.\n",
    "\n",
    "1. Implement Full-Batch Gradient Descent: Ensure you have a full-batch gradient descent implementation.\n",
    "\n",
    "2. Modify the Training Loop: Allow the training loop to handle both mini-batch and full-batch scenarios.\n",
    "\n",
    "3. Train the Model: Run the training process using both methods and track their performance.\n",
    "\n",
    "4. Print Results: Display the final loss and accuracy for both methods along with training times."
   ]
  },
  {
   "cell_type": "code",
   "execution_count": 115,
   "metadata": {
    "id": "tlTYBB2tlgBG",
    "ExecuteTime": {
     "end_time": "2024-11-22T15:06:34.996074220Z",
     "start_time": "2024-11-22T15:06:34.953886524Z"
    }
   },
   "outputs": [],
   "source": [
    "def train_model_full_batch(X_train, y_train, hidden_size, epochs=50, learning_rate=0.01):\n",
    "    \"\"\"\n",
    "    Train the neural network model using full-batch gradient descent.\n",
    "\n",
    "    Parameters:\n",
    "    - X_train: Training data.\n",
    "    - y_train: One-hot encoded labels.\n",
    "    - hidden_size: Number of neurons in the hidden layer.\n",
    "    - epochs: Number of training epochs.\n",
    "    - learning_rate: Learning rate for optimization.\n",
    "\n",
    "    Returns:\n",
    "    - loss_history: List of loss values over epochs.\n",
    "    - accuracy_history: List of accuracy values over epochs.\n",
    "    \"\"\"\n",
    "\n",
    "    input_size = X_train.shape[1]\n",
    "    output_size = y_train.shape[1]\n",
    "    parameters = initialize_parameters(input_size, hidden_size, output_size)\n",
    "    loss_history = []\n",
    "    for epoch in range(epochs):\n",
    "        y_pred, cache = forward_propagation(X_train, parameters)\n",
    "        loss = compute_loss(y_train, y_pred)\n",
    "        gradients = backward_propagation(X_train, y_train, parameters, cache)\n",
    "        parameters = update_parameters_with_sgd(parameters, gradients, learning_rate)\n",
    "        loss_history.append(loss)\n",
    "        if (epoch + 1) % 10 == 0:\n",
    "            print(f'Epoch {epoch + 1}/{epochs} - Loss: {loss:.4f} - Accuracy: {compute_accuracy(y_train, y_pred):.4f}')\n",
    "    return loss_history\n"
   ]
  },
  {
   "cell_type": "code",
   "execution_count": 117,
   "metadata": {
    "colab": {
     "base_uri": "https://localhost:8080/"
    },
    "id": "YIb4-9eGllGi",
    "outputId": "ead5c84a-6a1d-4c2e-fe64-47345d5f86b5",
    "ExecuteTime": {
     "end_time": "2024-11-22T15:09:32.645869986Z",
     "start_time": "2024-11-22T15:07:03.253438947Z"
    }
   },
   "outputs": [
    {
     "name": "stdout",
     "output_type": "stream",
     "text": [
      "Training with Mini-Batch Gradient Descent\n",
      "Epoch 10/50 - Loss: 0.6206 - Accuracy: 0.8603\n",
      "Epoch 20/50 - Loss: 0.5318 - Accuracy: 0.8748\n",
      "Epoch 30/50 - Loss: 0.4871 - Accuracy: 0.8840\n",
      "Epoch 40/50 - Loss: 0.4528 - Accuracy: 0.8903\n",
      "Epoch 50/50 - Loss: 0.4304 - Accuracy: 0.8957\n",
      "Training time (Mini-Batch): 106.56106281280518 seconds\n",
      "\n",
      "Training with Full-Batch Gradient Descent\n",
      "Epoch 10/50 - Loss: 7.0721 - Accuracy: 0.2200\n",
      "Epoch 20/50 - Loss: 5.3200 - Accuracy: 0.3179\n",
      "Epoch 30/50 - Loss: 4.3610 - Accuracy: 0.4053\n",
      "Epoch 40/50 - Loss: 3.8261 - Accuracy: 0.4588\n",
      "Epoch 50/50 - Loss: 3.4656 - Accuracy: 0.4931\n",
      "Training time (Full-Batch): 42.8223979473114 seconds\n"
     ]
    }
   ],
   "source": [
    "import time\n",
    "def compare_mini_batch_and_full_batch(X_train, y_train, hidden_size, epochs=50, batch_size=32):\n",
    "    \"\"\"\n",
    "    Compare the performance of mini-batch gradient descent against full-batch gradient descent.\n",
    "\n",
    "    Parameters:\n",
    "    - X_train: Training data.\n",
    "    - y_train: One-hot encoded labels.\n",
    "    - hidden_size: Number of neurons in the hidden layer.\n",
    "    - epochs: Number of training epochs.\n",
    "    - batch_size: Size of mini-batches for mini-batch gradient descent.\n",
    "    \"\"\"\n",
    "\n",
    "    print('Training with Mini-Batch Gradient Descent')\n",
    "    start_time = time.time()\n",
    "    _ = train_model_with_mini_batches(X_train, y_train, hidden_size, epochs, batch_size=batch_size)\n",
    "    end_time = time.time()\n",
    "    print(f'Training time (Mini-Batch): {end_time - start_time} seconds')\n",
    "\n",
    "    print()\n",
    "    print('Training with Full-Batch Gradient Descent')\n",
    "    start_time = time.time()\n",
    "    _ = train_model_full_batch(X_train, y_train, hidden_size, epochs)\n",
    "    end_time = time.time()\n",
    "    print(f'Training time (Full-Batch): {end_time - start_time} seconds')\n",
    "    \n",
    "compare_mini_batch_and_full_batch(x_train.reshape(-1, 784), y_train, 128, epochs=50)"
   ]
  },
  {
   "cell_type": "code",
   "execution_count": null,
   "outputs": [],
   "source": [],
   "metadata": {
    "collapsed": false
   }
  }
 ],
 "metadata": {
  "colab": {
   "provenance": []
  },
  "kernelspec": {
   "name": "python3",
   "language": "python",
   "display_name": "Python 3 (ipykernel)"
  },
  "language_info": {
   "codemirror_mode": {
    "name": "ipython",
    "version": 3
   },
   "file_extension": ".py",
   "mimetype": "text/x-python",
   "name": "python",
   "nbconvert_exporter": "python",
   "pygments_lexer": "ipython3",
   "version": "3.10.5"
  }
 },
 "nbformat": 4,
 "nbformat_minor": 0
}
