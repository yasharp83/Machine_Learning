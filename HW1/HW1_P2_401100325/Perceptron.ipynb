{
 "cells": [
  {
   "cell_type": "markdown",
   "metadata": {
    "id": "y09iFsmx2Vcw"
   },
   "source": [
    "<img src='./pic/sharif-main-logo.png' alt=\"SUT logo\" width=300 height=300 align=left class=\"saturate\" > <br>\n",
    "\n",
    "<div dir=ltr align=center>\n",
    "<font color=0F5298 size=7>\n",
    "    یادگیری ماشین <br>\n",
    "<font color=2565AE size=5>\n",
    "    دانشکده مهندسی کامپیوتر <br>\n",
    "    پاییز ۱۴۰۳ <br>\n",
    "<font color=3C99D size=5>\n",
    "   تمرین عملی اول - یادگیری نظارت شده <br>\n",
    "<font color=696880 size=4>\n",
    "    عرفان سلیما - سارینا حشمتی - نیکان واسعی - فاطمه شیری"
   ]
  },
  {
   "cell_type": "markdown",
   "metadata": {
    "id": "y09iFsmx2Vcw"
   },
   "source": [
    "<div dir=rtl>\n",
    "<font size=6>\n",
    "اطلاعات دانشجو"
   ]
  },
  {
   "cell_type": "code",
   "execution_count": 143,
   "metadata": {
    "ExecuteTime": {
     "end_time": "2024-10-16T08:11:10.205253558Z",
     "start_time": "2024-10-16T08:11:10.179941548Z"
    }
   },
   "outputs": [],
   "source": [
    "import numpy as np\n",
    "\n",
    "student_number = '401100325'\n",
    "Name = 'yashar'\n",
    "Last_Name = 'paymai'"
   ]
  },
  {
   "cell_type": "markdown",
   "metadata": {
    "id": "y09iFsmx2Vcw"
   },
   "source": [
    "<div dir=rtl>\n",
    "<font size=6>\n",
    "نحوه پیاده سازی"
   ]
  },
  {
   "cell_type": "markdown",
   "metadata": {
    "id": "lCUAtWN522T4"
   },
   "source": [
    "<div dir=rtl>\n",
    "<font size=4>\n",
    " با استفاده از تابع make_blobs از کتابخانه sklearn به کمک قطعه کد\n",
    "زیر، مجموعه داده ای بسازید که به صورت خطی\n",
    "جدایی پذیر باشد. هر ستون از ماتریس X شامل ویژگی های یک نمونه داده است."
   ]
  },
  {
   "cell_type": "code",
   "execution_count": 144,
   "metadata": {
    "id": "sbBYk18H2TVg",
    "ExecuteTime": {
     "end_time": "2024-10-16T08:11:10.250611638Z",
     "start_time": "2024-10-16T08:11:10.183416204Z"
    }
   },
   "outputs": [],
   "source": [
    "from sklearn.datasets import make_blobs\n",
    "\n",
    "X, Y = make_blobs(n_samples=100, n_features=10, centers=2, random_state=41)\n",
    "#making 0 to -1\n",
    "Y = 2 * Y - 1\n"
   ]
  },
  {
   "cell_type": "markdown",
   "metadata": {
    "id": "SFi-rRwJ3E3-"
   },
   "source": [
    "<div dir=rtl>\n",
    "<font size=4>\n",
    " ابتدا کلاسی به نام F در نظر بگیرید و یکی از متد های آن را به نام sign پیاده سازی کنید. متدهای این کلاس متعلق به کلاس\n",
    "هستند و باید به صورت static تعریف شوند. در حقیقت این کلاس مسئول نگهداری توابع کاربردی برای انجام محاسبات\n",
    "است که در اینجا ما فقط میخواهیم sign را تعریف کنیم."
   ]
  },
  {
   "cell_type": "code",
   "execution_count": 145,
   "metadata": {
    "id": "ta3SQGNJ3OeO",
    "ExecuteTime": {
     "end_time": "2024-10-16T08:11:10.250870256Z",
     "start_time": "2024-10-16T08:11:10.228371946Z"
    }
   },
   "outputs": [],
   "source": [
    "class F:\n",
    "    @staticmethod\n",
    "    def sign(x):\n",
    "        # Implement the sign activation function\n",
    "        if x <= 0.0:\n",
    "            return -1\n",
    "        return 1"
   ]
  },
  {
   "cell_type": "markdown",
   "metadata": {
    "id": "prCJVzUh3Wd5"
   },
   "source": [
    "<div dir=rtl>\n",
    "<font size=4>\n",
    " کلاس Perceptron را مانند تکه کد زیر در نظر بگیرید. این موجودیت تنها وظیفه نگهداری وزن های پرسپترون ما و محاسبه\n",
    "y براساس ورودی ما یعنی X را دارد. برای مقدار دهی اولیه وزن ها و بایاس میتوانید از کتابخانه numpy استفاده کنید."
   ]
  },
  {
   "cell_type": "code",
   "execution_count": 146,
   "metadata": {
    "id": "FRApiOaV3khr",
    "ExecuteTime": {
     "end_time": "2024-10-16T08:11:10.250983203Z",
     "start_time": "2024-10-16T08:11:10.228512096Z"
    }
   },
   "outputs": [],
   "source": [
    "class Perceptron:\n",
    "    def __init__(self, input_size):\n",
    "        # Initialize the weights and biases of the new model\n",
    "        self.input_size = input_size\n",
    "        \n",
    "        self.weights = np.random.rand(input_size)\n",
    "        self.bias = np.random.rand()\n",
    "\n",
    "    def forward(self, input):\n",
    "        # Feed input features to your model and return output\n",
    "        return F.sign(np.dot(input, self.weights) + self.bias)"
   ]
  },
  {
   "cell_type": "markdown",
   "metadata": {
    "id": "WF8lQoZA3pgt"
   },
   "source": [
    "<div dir=rtl>\n",
    "<font size=4>\n",
    "حال کلاس Optimizer را مطابق قطعه کد زیر پیاده سازی کنید. این کلاس وظیفه این را دارد که مدل ما را بهینه کند. بدین\n",
    "معنی که در هر مرحله از یادگیری سعی کند وزن ها را در جهتی بروزرسانی کند که در نهایت ما هیچ خطایی نداشته باشیم (با\n",
    "فرض خطی جدایی پذیر بودن داده ها)"
   ]
  },
  {
   "cell_type": "code",
   "execution_count": 147,
   "metadata": {
    "id": "ksQEHkz54HeO",
    "ExecuteTime": {
     "end_time": "2024-10-16T08:11:10.251065599Z",
     "start_time": "2024-10-16T08:11:10.228604664Z"
    }
   },
   "outputs": [],
   "source": [
    "class Optimizer:\n",
    "    def __init__(self, model, learning_rate=1.0):\n",
    "        self.model = model\n",
    "        self.learning_rate = learning_rate\n",
    "\n",
    "    def update(self, x, y, y_hat):\n",
    "        # Update weight and bias of the model\n",
    "        if y * y_hat < 0:\n",
    "            self.model.weights += self.learning_rate * y * x\n",
    "            self.model.bias += self.learning_rate * y\n",
    "            return False\n",
    "        return True"
   ]
  },
  {
   "cell_type": "markdown",
   "metadata": {
    "id": "lHKc8Rpc4KT2"
   },
   "source": [
    "<div dir=rtl>\n",
    "<font size=4>\n",
    "با توجه به تعداد ویژگی های داده های موجود، یک شی Perceptron بسازید (این پارامتر باید با تعداد ویژگی های قسمت\n",
    "اول یکسان باشد) در مرحله بعدی به Optimizer اجازه دهید تا به مدل شما دسترسی داشته باشد تا بتواند آن را بهینه کند."
   ]
  },
  {
   "cell_type": "markdown",
   "metadata": {
    "id": "FAwckbDH4TIa"
   },
   "source": [
    "<div dir=rtl>\n",
    "<font size=4>\n",
    "در این قسمت شما باید با پیاده سازی فرآیندی مناسب با استفاده از instance های Optimizer و Perceptron وضعیت\n",
    "مدل را بهبود بدهید تا به ابر صفحه جدا کننده نزدیک تر شود."
   ]
  },
  {
   "cell_type": "code",
   "execution_count": 148,
   "metadata": {
    "id": "vlvPXwMm4QTI",
    "ExecuteTime": {
     "end_time": "2024-10-16T08:11:10.251284118Z",
     "start_time": "2024-10-16T08:11:10.228670012Z"
    }
   },
   "outputs": [
    {
     "name": "stdout",
     "output_type": "stream",
     "text": [
      "Model converged at iteration  1\n",
      "[  1.83396108   5.05730938  -9.79347455   6.57735115   9.75562643\n",
      " -13.81228042  10.67357098  -5.46206881  -2.16164998   3.23767183] 0.3637194911349433\n"
     ]
    }
   ],
   "source": [
    "n_iter = 1000\n",
    "\n",
    "model = Perceptron(input_size=X.shape[1])\n",
    "optimizer = Optimizer(model)\n",
    "\n",
    "\n",
    "def learn_perceptron(n_iter, X, Y, model, optimizer):\n",
    "    for _ in range(n_iter):\n",
    "        wrong_prediction = 0\n",
    "        for x, y in zip(X, Y):\n",
    "            if not optimizer.update(x, y, model.forward(x)):\n",
    "                wrong_prediction += 1\n",
    "        if wrong_prediction == 0:\n",
    "            print('Model converged at iteration ', _)\n",
    "            break\n",
    "    print(model.weights, model.bias)\n",
    "    \n",
    "learn_perceptron(n_iter, X, Y, model, optimizer)\n"
   ]
  },
  {
   "cell_type": "markdown",
   "metadata": {
    "id": "bg5D9ooD4c-_"
   },
   "source": [
    "<div dir=rtl>\n",
    "<font size=4>\n",
    "به ازای n_features برابر ۲ نقاط مجموعه داده ی خود و خط حاصل از Perceptron خود را به کمک کتابخانه Ⅿatpⅼotⅼib\n",
    "در فضای ۲ بعدی نمایش دهید."
   ]
  },
  {
   "cell_type": "code",
   "execution_count": 149,
   "metadata": {
    "ExecuteTime": {
     "end_time": "2024-10-16T08:11:10.293024243Z",
     "start_time": "2024-10-16T08:11:10.228747065Z"
    }
   },
   "outputs": [
    {
     "name": "stdout",
     "output_type": "stream",
     "text": [
      "Model converged at iteration  1\n",
      "[ 9.89728871 -1.2917146 ] 0.7017309487240069\n"
     ]
    },
    {
     "data": {
      "text/plain": "<Figure size 640x480 with 1 Axes>",
      "image/png": "[encoded data removed]"
     },
     "metadata": {},
     "output_type": "display_data"
    }
   ],
   "source": [
    "new_X, new_Y = make_blobs(n_samples=100, n_features=2, centers=2, random_state=41)\n",
    "new_Y = 2 * new_Y - 1\n",
    "model = Perceptron(input_size=new_X.shape[1])\n",
    "optimizer = Optimizer(model)\n",
    "\n",
    "learn_perceptron(1000, new_X, new_Y, model, optimizer)\n",
    "\n",
    "import matplotlib.pyplot as plt\n",
    "\n",
    "plt.scatter(new_X[new_Y==1, 0], new_X[new_Y==1, 1] , color='red' , label='class 1' , marker='o')\n",
    "plt.scatter(new_X[new_Y==-1, 0], new_X[new_Y==-1, 1] , color='blue' , label='class -1' , marker='o')\n",
    "plt.axline((0, -model.bias / model.weights[1]), slope=-model.weights[0] / model.weights[1], color='green', label='Perceptron boundary')\n",
    "\n",
    "plt.legend()\n",
    "plt.show()\n",
    "\n"
   ]
  }
 ],
 "metadata": {
  "colab": {
   "provenance": []
  },
  "kernelspec": {
   "display_name": "Python 3 (ipykernel)",
   "language": "python",
   "name": "python3"
  },
  "language_info": {
   "codemirror_mode": {
    "name": "ipython",
    "version": 3
   },
   "file_extension": ".py",
   "mimetype": "text/x-python",
   "name": "python",
   "nbconvert_exporter": "python",
   "pygments_lexer": "ipython3",
   "version": "3.11.3"
  }
 },
 "nbformat": 4,
 "nbformat_minor": 1
}
